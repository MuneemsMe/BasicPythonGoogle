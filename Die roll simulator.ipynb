{
 "cells": [
  {
   "cell_type": "code",
   "execution_count": 18,
   "metadata": {},
   "outputs": [
    {
     "name": "stdout",
     "output_type": "stream",
     "text": [
      "Your number is: 5\n",
      "do you want to roll the dice again?: yes\n",
      "Your number is: 1\n",
      "do you want to roll the dice again?: no\n",
      "thanks for playing\n"
     ]
    }
   ],
   "source": [
    "import random\n",
    "\n",
    "#pick a random number\n",
    "def roll():\n",
    "    dice = random.randint(1, 6)\n",
    "\n",
    "#print the random number\n",
    "    print(\"Your number is:\",dice)\n",
    "#prompts to roll again\n",
    "    roll_again = input(\"do you want to roll the dice again?: \")\n",
    "\n",
    "\n",
    "    if roll_again == \"yes\":\n",
    "        roll()\n",
    "    else:\n",
    "        print(\"thanks for playing\")\n",
    "    \n",
    "#yes - rolls again\n",
    "#no - quits\n",
    "\n",
    "roll()"
   ]
  },
  {
   "cell_type": "code",
   "execution_count": null,
   "metadata": {},
   "outputs": [],
   "source": []
  },
  {
   "cell_type": "code",
   "execution_count": null,
   "metadata": {},
   "outputs": [],
   "source": []
  }
 ],
 "metadata": {
  "kernelspec": {
   "display_name": "Python 3",
   "language": "python",
   "name": "python3"
  },
  "language_info": {
   "codemirror_mode": {
    "name": "ipython",
    "version": 3
   },
   "file_extension": ".py",
   "mimetype": "text/x-python",
   "name": "python",
   "nbconvert_exporter": "python",
   "pygments_lexer": "ipython3",
   "version": "3.8.1"
  }
 },
 "nbformat": 4,
 "nbformat_minor": 4
}
